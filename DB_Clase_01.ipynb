{
  "nbformat": 4,
  "nbformat_minor": 0,
  "metadata": {
    "colab": {
      "provenance": []
    },
    "kernelspec": {
      "name": "python3",
      "display_name": "Python 3"
    },
    "language_info": {
      "name": "python"
    }
  },
  "cells": [
    {
      "cell_type": "markdown",
      "source": [
        "<div align=\"right\">\n",
        "  <img src=\"https://drive.google.com/uc?export=view&id=1J8JpP65HsHXdpJvhb_sMwn3yROyU832m\" height=\"80\" width=\"200\" style=\"float: right;\">\n",
        "</div>\n",
        "<h1><b>Data Science and Machine Learning</b></h1>\n",
        "<h2><b>Clase 1</b>: Prework Review - Parte 1</h2>\n",
        "<h3><b>Docente</b>: <a href=\"https://www.linkedin.com/in/danielablanco/\">Daniela Blanco</a>"
      ],
      "metadata": {
        "id": "Wp4cyu16yiif"
      }
    },
    {
      "cell_type": "markdown",
      "source": [
        "# Contenido\n",
        "\n",
        "- [1. Terminología básica](#terminologia)\n",
        "- [2. Python](#python)\n",
        "  - [2.1 Variables](#variables)\n",
        "  - [2.2 Tipos de datos](#tipos_de_datos)\n",
        "  - [2.3 Operadores](#operadores)\n",
        "  - [2.4 Estructuras de control](#estructuras)      \n",
        "  - [2.5 Funciones](#funciones)\n",
        "  - [2.6 Librerías](#librerias)  \n",
        "- [3. Numpy](#numpy)\n",
        "- [4. Actividad Numpy](#proyecto)"
      ],
      "metadata": {
        "id": "XEmijBfl2b_I"
      }
    },
    {
      "cell_type": "markdown",
      "source": [
        "## 1. Terminología básica <a name=\"terminologia\"></a>"
      ],
      "metadata": {
        "id": "Pw6lT_8L3Bny"
      }
    },
    {
      "cell_type": "markdown",
      "source": [
        "<img src=\"https://drive.google.com/uc?export=view&id=1rwkyvWbw_5-lDSrle_ZdQ3fX7RHxzM5R\" height=\"330\" width=\"500\" style=\"float: center;\">"
      ],
      "metadata": {
        "id": "2uJKJj6J6zS6"
      }
    },
    {
      "cell_type": "markdown",
      "source": [
        "<b>Inteligencia Artificial (IA)</b>\n",
        "\n",
        "- Campo de estudio que se enfoca en cómo hacer que las computadoras piensen y actúen como los humanos.\n",
        "- Incluye subcampos, como el aprendizaje automático, la robótica, el procesamiento del lenguaje natural, la visión por computadora...\n",
        "\n",
        "<b>Machine learning (ML)</b>\n",
        "\n",
        "- Es un subcampo de la IA que se centra en desarrollar algoritmos y modelos que permitan a las computadoras aprender a partir de datos. Sin ser programadas explícitamente para cada tarea.\n",
        "- El machine learning se divide en dos categorías principales: aprendizaje supervisado (donde se proporcionan datos etiquetados) y aprendizaje no supervisado (donde se buscan patrones en datos no etiquetados).\n",
        "\n",
        "<b>Deep Learning / Apendizaje profundo</b>\n",
        "\n",
        "- Son técnicas de machine learning que utilizan principalmente redes neuronales para aprender automáticamente características y patrones complejos a partir de datos.\n",
        "- Ha demostrado ser especialmente eficaz en tareas como el reconocimiento de imágenes y de voz, el procesamiento del lenguaje natural y la toma de decisiones basadas en datos complejos.\n",
        "\n",
        "<b>Ciencia de Datos</b>\n",
        "\n",
        "- Es un campo interdisciplinario que se centra en la extracción de conocimiento a partir de grandes volumenes de datos.\n",
        "- Utiliza técnicas estadísticas, informáticas y de análisis para interpretar, comprender y extraer conocimiento.\n",
        "-\tIncluye la adquisición, limpieza, análisis y visualización de datos, y puede hacer uso de la IA y del machine learning para analizarlos."
      ],
      "metadata": {
        "id": "4jhbeTuX8V_T"
      }
    },
    {
      "cell_type": "markdown",
      "source": [
        "## 2. Python <a name=\"python\"></a>"
      ],
      "metadata": {
        "id": "B0ot_yeT5Jd_"
      }
    },
    {
      "cell_type": "markdown",
      "source": [
        "- Lenguaje de programación muy versátil.\n",
        "- El más utilizado para trabajar con datos y principalmente en ciencia de datos."
      ],
      "metadata": {
        "id": "LdHW8bYQA3Qc"
      }
    },
    {
      "cell_type": "markdown",
      "source": [
        "### 2.1 Variables <a name=\"variables\"></a>\n",
        "\n",
        "|  | |\n",
        "|--|--|\n",
        "| <img src=\"https://drive.google.com/uc?export=view&id=193nwbWQowZ2Ev726kmYqZ7u6BSKTBvfP\" height=\"120\" width=\"200\" style=\"float: center;\">  | <p>Contenedor para almacenar un valor que puede variar en el tiempo.</p> <p>Tiene un nombre propio (buena práctica que sea declarativo).</p><p>Cada variable tendrá además un tipo de datos.</p>|"
      ],
      "metadata": {
        "id": "WT9ttDev-s4G"
      }
    },
    {
      "cell_type": "code",
      "source": [
        "nombre = \"Juan\"\n",
        "edad = 25\n",
        "altura = 1.80\n",
        "es_estudiante = True"
      ],
      "metadata": {
        "id": "wZ3TNhBIRCAr"
      },
      "execution_count": 1,
      "outputs": []
    },
    {
      "cell_type": "code",
      "source": [
        "nombre"
      ],
      "metadata": {
        "id": "jHfzgCNARDGa",
        "colab": {
          "base_uri": "https://localhost:8080/",
          "height": 36
        },
        "outputId": "1b64e15c-a9e0-434b-c09e-8a9790752392"
      },
      "execution_count": 2,
      "outputs": [
        {
          "output_type": "execute_result",
          "data": {
            "text/plain": [
              "'Juan'"
            ],
            "application/vnd.google.colaboratory.intrinsic+json": {
              "type": "string"
            }
          },
          "metadata": {},
          "execution_count": 2
        }
      ]
    },
    {
      "cell_type": "code",
      "source": [
        "print(edad)"
      ],
      "metadata": {
        "id": "MG6QRig6RHQf",
        "colab": {
          "base_uri": "https://localhost:8080/"
        },
        "outputId": "f1a8cb67-21f2-4f8e-f165-37d3d4a9d2fa"
      },
      "execution_count": 17,
      "outputs": [
        {
          "output_type": "stream",
          "name": "stdout",
          "text": [
            "25\n"
          ]
        }
      ]
    },
    {
      "cell_type": "code",
      "source": [
        "edad"
      ],
      "metadata": {
        "colab": {
          "base_uri": "https://localhost:8080/"
        },
        "id": "Yb-h2kkCHBft",
        "outputId": "7cd2d7c5-e020-4731-b9bc-52bff16e868b"
      },
      "execution_count": 4,
      "outputs": [
        {
          "output_type": "execute_result",
          "data": {
            "text/plain": [
              "25"
            ]
          },
          "metadata": {},
          "execution_count": 4
        }
      ]
    },
    {
      "cell_type": "markdown",
      "source": [
        "### 2.2 Tipos de datos <a name=\"tipos_de_datos\"></a>"
      ],
      "metadata": {
        "id": "nF-jwaADRLuP"
      }
    },
    {
      "cell_type": "markdown",
      "source": [
        "Los tipos de datos (data types) determinan la clase de datos que una variable puede contener.\n",
        "\n",
        "### Tipos básicos\n",
        "\n",
        "Python, como todos los lenguajes de programación, tiene sus propios tipos básicos:\n",
        "- Enteros (int): Representa números enteros, positivos o negativos.\n",
        "- Punto flotante (float): Representa números reales con decimales.\n",
        "- Cadena de carácteres (string): Representa secuencias de caracteres (texto).\n",
        "- Booleano (bool): Representa valor de verdad, True o False."
      ],
      "metadata": {
        "id": "TjbtiSPVRQPJ"
      }
    },
    {
      "cell_type": "code",
      "source": [
        "num_int = 123\n",
        "num_float = 3.14\n",
        "str_var = \"Esto es un texto de prueba\"\n",
        "bool_var = True"
      ],
      "metadata": {
        "id": "SqRYXHfNSX_k"
      },
      "execution_count": 5,
      "outputs": []
    },
    {
      "cell_type": "code",
      "source": [
        "type(num_int)"
      ],
      "metadata": {
        "id": "Y71g1QFySsDL",
        "colab": {
          "base_uri": "https://localhost:8080/"
        },
        "outputId": "431659cc-ab69-4b0a-eb1f-b562a449a942"
      },
      "execution_count": 6,
      "outputs": [
        {
          "output_type": "execute_result",
          "data": {
            "text/plain": [
              "int"
            ]
          },
          "metadata": {},
          "execution_count": 6
        }
      ]
    },
    {
      "cell_type": "code",
      "source": [
        "type(num_float)"
      ],
      "metadata": {
        "id": "WyiMuLzsSwPL",
        "colab": {
          "base_uri": "https://localhost:8080/"
        },
        "outputId": "96917007-ff32-46ac-984f-9216bcf77875"
      },
      "execution_count": 7,
      "outputs": [
        {
          "output_type": "execute_result",
          "data": {
            "text/plain": [
              "float"
            ]
          },
          "metadata": {},
          "execution_count": 7
        }
      ]
    },
    {
      "cell_type": "code",
      "source": [
        "type(str_var)"
      ],
      "metadata": {
        "id": "hTTH4T2uSw7t",
        "colab": {
          "base_uri": "https://localhost:8080/"
        },
        "outputId": "2112cbcb-322a-4deb-ea3f-17f8cf70de96"
      },
      "execution_count": 8,
      "outputs": [
        {
          "output_type": "execute_result",
          "data": {
            "text/plain": [
              "str"
            ]
          },
          "metadata": {},
          "execution_count": 8
        }
      ]
    },
    {
      "cell_type": "code",
      "source": [
        "type(bool_var)"
      ],
      "metadata": {
        "id": "NvvAlJPlSxmF",
        "colab": {
          "base_uri": "https://localhost:8080/"
        },
        "outputId": "26bca9ba-e7a0-4751-af3c-78289c932236"
      },
      "execution_count": 9,
      "outputs": [
        {
          "output_type": "execute_result",
          "data": {
            "text/plain": [
              "bool"
            ]
          },
          "metadata": {},
          "execution_count": 9
        }
      ]
    },
    {
      "cell_type": "markdown",
      "source": [
        "### Tipos compuestos *\n",
        "\n",
        "Tipos de datos que permiten tener colecciones de elementos.\n",
        "\n",
        "- Listas (list): colección ordenada de elementos. Los elementos pueden ser de cualquier tipo y se puede modificar su contenido\n",
        "- Tuplas (tuple) Similar a la lista, pero es inmutable, es decir, una vez creada no se puede modificar su contenido.\n",
        "- Diccionario (dictionary):  colección no ordenada de pares clave-valor.\n",
        "\n",
        "*No son los únicos, pero si los más utilizados en ciencia de datos."
      ],
      "metadata": {
        "id": "M6R_2EUgS6JZ"
      }
    },
    {
      "cell_type": "code",
      "source": [
        "list_numbers = [1, 2, 3, 4, 5]\n",
        "\n",
        "tuple_numbers = (1, 2, 3, 4, 5)\n",
        "\n",
        "dict_person = {\n",
        "    \"nombre\": \"Juan\",\n",
        "    \"edad\": 25,\n",
        "    \"altura\": 1.80,\n",
        "    \"es_estudiante\": True\n",
        "}"
      ],
      "metadata": {
        "id": "D0SGB-NzTpBe"
      },
      "execution_count": 10,
      "outputs": []
    },
    {
      "cell_type": "code",
      "source": [
        "list_numbers[2]"
      ],
      "metadata": {
        "colab": {
          "base_uri": "https://localhost:8080/"
        },
        "id": "YFdVm_sSJUtX",
        "outputId": "b3ffad49-a996-41c1-9222-699abc43c372"
      },
      "execution_count": 11,
      "outputs": [
        {
          "output_type": "execute_result",
          "data": {
            "text/plain": [
              "3"
            ]
          },
          "metadata": {},
          "execution_count": 11
        }
      ]
    },
    {
      "cell_type": "code",
      "source": [
        "tuple_numbers[0]"
      ],
      "metadata": {
        "colab": {
          "base_uri": "https://localhost:8080/"
        },
        "id": "fryOR2EhJa_Y",
        "outputId": "ad398c21-8415-4561-a8a4-0b6885119edc"
      },
      "execution_count": 12,
      "outputs": [
        {
          "output_type": "execute_result",
          "data": {
            "text/plain": [
              "1"
            ]
          },
          "metadata": {},
          "execution_count": 12
        }
      ]
    },
    {
      "cell_type": "code",
      "source": [
        "dict_person[\"edad\"]"
      ],
      "metadata": {
        "colab": {
          "base_uri": "https://localhost:8080/"
        },
        "id": "7BbCp4pyJfQw",
        "outputId": "702c0a82-de0d-4b38-c35a-ee0dc12bd5a7"
      },
      "execution_count": 16,
      "outputs": [
        {
          "output_type": "execute_result",
          "data": {
            "text/plain": [
              "25"
            ]
          },
          "metadata": {},
          "execution_count": 16
        }
      ]
    },
    {
      "cell_type": "markdown",
      "source": [
        "### 2.3 Operadores <a name=\"operadores\"></a>"
      ],
      "metadata": {
        "id": "wh1EL8xdT_hs"
      }
    },
    {
      "cell_type": "markdown",
      "source": [
        "Son símbolos que indican una operación.\n",
        "\n",
        "- Matemáticos: realizan operaciones aritméticas. Aunque dependiendo del tipo de las variables, los resultados pueden no ser numéricos (python implementó el mismo símbolo para varios usos)."
      ],
      "metadata": {
        "id": "0oHV2qSVUFJq"
      }
    },
    {
      "cell_type": "code",
      "source": [
        "# Suma\n",
        "x = 5\n",
        "y = 3\n",
        "\n",
        "z = x + y\n",
        "z"
      ],
      "metadata": {
        "id": "zAMUmyTUUvF3",
        "colab": {
          "base_uri": "https://localhost:8080/"
        },
        "outputId": "38bd4ed9-c625-46ae-e2ca-e601397d89a0"
      },
      "execution_count": 18,
      "outputs": [
        {
          "output_type": "execute_result",
          "data": {
            "text/plain": [
              "8"
            ]
          },
          "metadata": {},
          "execution_count": 18
        }
      ]
    },
    {
      "cell_type": "code",
      "source": [
        "# Resta\n",
        "x = 5\n",
        "y = 3\n",
        "\n",
        "z = x - y\n",
        "z"
      ],
      "metadata": {
        "id": "EO0ofhLHU8PK",
        "colab": {
          "base_uri": "https://localhost:8080/"
        },
        "outputId": "e1dde34a-92fd-4533-be25-0707e2fba52b"
      },
      "execution_count": 32,
      "outputs": [
        {
          "output_type": "execute_result",
          "data": {
            "text/plain": [
              "2"
            ]
          },
          "metadata": {},
          "execution_count": 32
        }
      ]
    },
    {
      "cell_type": "code",
      "source": [
        "# Multiplicación\n",
        "x = 5\n",
        "y = 3\n",
        "\n",
        "z = x * y\n",
        "z"
      ],
      "metadata": {
        "id": "qH12EWeuVAN4",
        "colab": {
          "base_uri": "https://localhost:8080/"
        },
        "outputId": "1cfbe03a-6dad-4e1e-97ef-4453f36b0a72"
      },
      "execution_count": 20,
      "outputs": [
        {
          "output_type": "execute_result",
          "data": {
            "text/plain": [
              "15"
            ]
          },
          "metadata": {},
          "execution_count": 20
        }
      ]
    },
    {
      "cell_type": "code",
      "source": [
        "# División\n",
        "x = 5\n",
        "y = 3\n",
        "\n",
        "z = x / y\n",
        "z"
      ],
      "metadata": {
        "id": "P6EnbvqNVDjA",
        "colab": {
          "base_uri": "https://localhost:8080/"
        },
        "outputId": "69b51969-1e42-43ba-e1b5-a4a286010aed"
      },
      "execution_count": 21,
      "outputs": [
        {
          "output_type": "execute_result",
          "data": {
            "text/plain": [
              "1.6666666666666667"
            ]
          },
          "metadata": {},
          "execution_count": 21
        }
      ]
    },
    {
      "cell_type": "code",
      "source": [
        "# Módulo\n",
        "x = 5\n",
        "y = 3\n",
        "\n",
        "z = x % y\n",
        "z"
      ],
      "metadata": {
        "id": "vLGs_0hgVG3o",
        "colab": {
          "base_uri": "https://localhost:8080/"
        },
        "outputId": "5c18d848-7d08-4534-bafe-2af5b0ff9f05"
      },
      "execution_count": 22,
      "outputs": [
        {
          "output_type": "execute_result",
          "data": {
            "text/plain": [
              "2"
            ]
          },
          "metadata": {},
          "execution_count": 22
        }
      ]
    },
    {
      "cell_type": "code",
      "source": [
        "# Suma cadenas\n",
        "x = '3'\n",
        "y = '5'\n",
        "\n",
        "z = x + y\n",
        "z"
      ],
      "metadata": {
        "id": "fgESV7NIVUOM",
        "colab": {
          "base_uri": "https://localhost:8080/",
          "height": 36
        },
        "outputId": "a33b71a9-b9ca-4f72-d398-1cdf411e2ebd"
      },
      "execution_count": 31,
      "outputs": [
        {
          "output_type": "execute_result",
          "data": {
            "text/plain": [
              "'35'"
            ],
            "application/vnd.google.colaboratory.intrinsic+json": {
              "type": "string"
            }
          },
          "metadata": {},
          "execution_count": 31
        }
      ]
    },
    {
      "cell_type": "markdown",
      "source": [
        "- Lógicos: evalúan condiciones y devuelven valores booleanos. Son muy versátiles y útiles."
      ],
      "metadata": {
        "id": "zkm22AHWVcL5"
      }
    },
    {
      "cell_type": "code",
      "source": [
        "# Y\n",
        "resultado = True and True\n",
        "resultado"
      ],
      "metadata": {
        "id": "lvPrz3QXVbwH",
        "colab": {
          "base_uri": "https://localhost:8080/"
        },
        "outputId": "9adcba39-3c10-47b6-f37e-0c3cce0efb63"
      },
      "execution_count": 27,
      "outputs": [
        {
          "output_type": "execute_result",
          "data": {
            "text/plain": [
              "True"
            ]
          },
          "metadata": {},
          "execution_count": 27
        }
      ]
    },
    {
      "cell_type": "code",
      "source": [
        "# O\n",
        "resultado = True or False\n",
        "resultado"
      ],
      "metadata": {
        "id": "R8d2GaA9Vm0N"
      },
      "execution_count": null,
      "outputs": []
    },
    {
      "cell_type": "code",
      "source": [
        "# Negación\n",
        "resultado = not True\n",
        "resultado"
      ],
      "metadata": {
        "id": "OpR-hPs8Vpok",
        "colab": {
          "base_uri": "https://localhost:8080/"
        },
        "outputId": "4c1960df-1868-43ed-843e-eeade83c9abe"
      },
      "execution_count": 29,
      "outputs": [
        {
          "output_type": "execute_result",
          "data": {
            "text/plain": [
              "False"
            ]
          },
          "metadata": {},
          "execution_count": 29
        }
      ]
    },
    {
      "cell_type": "markdown",
      "source": [
        "### 2.4 Estructuras de control <a name=\"estructuras\"></a>"
      ],
      "metadata": {
        "id": "dOXcnG0VV4Hs"
      }
    },
    {
      "cell_type": "markdown",
      "source": [
        "Instrucciones que permiten modificar el flujo de ejecución secuencial de un programa.\n",
        "\n",
        "Estas estructuras permiten tomar decisiones, repetir bloques de código y saltar a diferentes partes del código dependiendo de ciertas condiciones lógicas.\n",
        "\n",
        "Al combinarlas y anidarlas, podemos crear flujos de trabajo complejos y lógicas sofisticadas en nuestros programas."
      ],
      "metadata": {
        "id": "iq9JAtDwWT8m"
      }
    },
    {
      "cell_type": "markdown",
      "source": [
        "* Condicionales: Permite ejecutar un bucle de código si se cumple una condición."
      ],
      "metadata": {
        "id": "GhQ7g-WaWqKV"
      }
    },
    {
      "cell_type": "code",
      "source": [
        "edad = 10\n",
        "\n",
        "if edad >= 18:\n",
        "  print(\"Eres mayor de edad.\")\n",
        "\n",
        "print('termino')"
      ],
      "metadata": {
        "id": "GgPBSP1JWqs1",
        "colab": {
          "base_uri": "https://localhost:8080/"
        },
        "outputId": "9e4035c3-99b4-4382-eb39-79002c4a05f1"
      },
      "execution_count": 35,
      "outputs": [
        {
          "output_type": "stream",
          "name": "stdout",
          "text": [
            "termino\n"
          ]
        }
      ]
    },
    {
      "cell_type": "code",
      "source": [
        "edad = 5\n",
        "\n",
        "if edad < 18:\n",
        "    print(\"Eres menor de edad.\")\n",
        "else:\n",
        "    print(\"Eres mayor de edad.\")"
      ],
      "metadata": {
        "id": "_aYmG5K3Wu9-",
        "colab": {
          "base_uri": "https://localhost:8080/"
        },
        "outputId": "653e4dd3-0e5e-462a-a467-843e826e8f70"
      },
      "execution_count": 37,
      "outputs": [
        {
          "output_type": "stream",
          "name": "stdout",
          "text": [
            "Eres menor de edad.\n"
          ]
        }
      ]
    },
    {
      "cell_type": "markdown",
      "source": [
        "* FOR: Repite un bloque de código un número determinado de veces o a través de los elementos de una colección."
      ],
      "metadata": {
        "id": "gOQW-h2AW-c-"
      }
    },
    {
      "cell_type": "code",
      "source": [
        " range(5)"
      ],
      "metadata": {
        "colab": {
          "base_uri": "https://localhost:8080/"
        },
        "id": "nzHqO0j1MMTY",
        "outputId": "1a68cd26-0a5d-47d0-ffdf-dad7319ee4df"
      },
      "execution_count": 38,
      "outputs": [
        {
          "output_type": "execute_result",
          "data": {
            "text/plain": [
              "range(0, 5)"
            ]
          },
          "metadata": {},
          "execution_count": 38
        }
      ]
    },
    {
      "cell_type": "code",
      "source": [
        "for i in range(5):\n",
        "    print(i)"
      ],
      "metadata": {
        "id": "ZWEAsALgXC2S",
        "colab": {
          "base_uri": "https://localhost:8080/"
        },
        "outputId": "50d66979-7df0-4199-e41e-2e3789c10625"
      },
      "execution_count": 39,
      "outputs": [
        {
          "output_type": "stream",
          "name": "stdout",
          "text": [
            "0\n",
            "1\n",
            "2\n",
            "3\n",
            "4\n"
          ]
        }
      ]
    },
    {
      "cell_type": "code",
      "source": [
        "frutas = [\"manzana\", \"banana\", \"cereza\"]\n",
        "\n",
        "for fruta in frutas:\n",
        "    print(fruta)"
      ],
      "metadata": {
        "id": "WOZL8wE0XEae",
        "colab": {
          "base_uri": "https://localhost:8080/"
        },
        "outputId": "68c7ef5d-3d8e-4ec7-a6b4-5fe590ee9eeb"
      },
      "execution_count": 40,
      "outputs": [
        {
          "output_type": "stream",
          "name": "stdout",
          "text": [
            "manzana\n",
            "banana\n",
            "cereza\n"
          ]
        }
      ]
    },
    {
      "cell_type": "markdown",
      "source": [
        "* WHILE: Repite un bloque de código mientras se cumpla una condición."
      ],
      "metadata": {
        "id": "5Uvx7nv7XNEK"
      }
    },
    {
      "cell_type": "code",
      "source": [
        "contador = 0\n",
        "\n",
        "while contador < 5:\n",
        "    print(contador)\n",
        "    #contador += 1\n",
        "    contador = contador + 2"
      ],
      "metadata": {
        "id": "4F2zsDxUXHnU",
        "colab": {
          "base_uri": "https://localhost:8080/"
        },
        "outputId": "8292d2ec-8311-4c2b-dc66-dd7bd5b4620e"
      },
      "execution_count": 44,
      "outputs": [
        {
          "output_type": "stream",
          "name": "stdout",
          "text": [
            "0\n",
            "2\n",
            "4\n"
          ]
        }
      ]
    },
    {
      "cell_type": "markdown",
      "source": [
        "* Instrucciones para control de ciclos"
      ],
      "metadata": {
        "id": "PMZ9MQtmXcBK"
      }
    },
    {
      "cell_type": "code",
      "source": [
        "for letra in \"Python\":\n",
        "    if letra == \"h\":\n",
        "        # Termina el bucle antes de que haya completado todas sus iteraciones.\n",
        "        break\n",
        "    print(letra)"
      ],
      "metadata": {
        "id": "5EVtPitWXW5i",
        "colab": {
          "base_uri": "https://localhost:8080/"
        },
        "outputId": "cf7b79d9-45ac-4de1-83eb-ec2ce6d5f108"
      },
      "execution_count": 41,
      "outputs": [
        {
          "output_type": "stream",
          "name": "stdout",
          "text": [
            "P\n",
            "y\n",
            "t\n"
          ]
        }
      ]
    },
    {
      "cell_type": "code",
      "source": [
        "for letra in \"Python\":\n",
        "    if letra == \"h\":\n",
        "        # Salta a la siguiente iteración del bucle, omitiendo el código que sigue después.\n",
        "        continue\n",
        "    print(letra)"
      ],
      "metadata": {
        "id": "g6z-vCmqXhwx",
        "colab": {
          "base_uri": "https://localhost:8080/"
        },
        "outputId": "5285a17e-58b2-459e-94ec-5f0e8849909b"
      },
      "execution_count": 42,
      "outputs": [
        {
          "output_type": "stream",
          "name": "stdout",
          "text": [
            "P\n",
            "y\n",
            "t\n",
            "o\n",
            "n\n"
          ]
        }
      ]
    },
    {
      "cell_type": "markdown",
      "source": [
        "### 2.5 Funciones <a name=\"funciones\"></a>"
      ],
      "metadata": {
        "id": "FuDUailIX8dV"
      }
    },
    {
      "cell_type": "markdown",
      "source": [
        "Es un bloque de código reutilizable que realiza una tarea específica.\n",
        "Tendrá un nombre propio.\n",
        "\n",
        "Puede (o no) recibir parámetros.\n",
        "\n",
        "Las funciones proporcionan una forma de modularizar el código, permitiéndonos organizar y reutilizar fragmentos de código en diferentes partes de nuestros programas. Esto mejora la calidad y facilita la depuración y el mantenimiento."
      ],
      "metadata": {
        "id": "_r6ks6QLYAOJ"
      }
    },
    {
      "cell_type": "code",
      "source": [
        "print(x)"
      ],
      "metadata": {
        "id": "EeUOgvSfYR8y",
        "colab": {
          "base_uri": "https://localhost:8080/"
        },
        "outputId": "a43f2345-f9f0-4ffa-c048-0abc17a35c92"
      },
      "execution_count": 45,
      "outputs": [
        {
          "output_type": "stream",
          "name": "stdout",
          "text": [
            "5\n"
          ]
        }
      ]
    },
    {
      "cell_type": "code",
      "source": [
        "def sumar_numeros(numero1, numero2):\n",
        "    respuesta = numero1 + numero2\n",
        "\n",
        "    return respuesta"
      ],
      "metadata": {
        "id": "wA_qdb2uYTy0"
      },
      "execution_count": 54,
      "outputs": []
    },
    {
      "cell_type": "code",
      "source": [
        "sumar_numeros(10, 6)"
      ],
      "metadata": {
        "id": "9UL_28jAYofM",
        "colab": {
          "base_uri": "https://localhost:8080/"
        },
        "outputId": "670950d0-1573-4141-87b1-19a3b313be34"
      },
      "execution_count": 51,
      "outputs": [
        {
          "output_type": "stream",
          "name": "stdout",
          "text": [
            "16\n"
          ]
        }
      ]
    },
    {
      "cell_type": "code",
      "source": [
        "otro_suma = sumar_numeros(10, 3)"
      ],
      "metadata": {
        "id": "3Vmc7X74PLcY"
      },
      "execution_count": 55,
      "outputs": []
    },
    {
      "cell_type": "code",
      "source": [
        "otro_suma"
      ],
      "metadata": {
        "colab": {
          "base_uri": "https://localhost:8080/"
        },
        "id": "Xmrs0nzEPN5P",
        "outputId": "4d8820a4-79dd-42b4-ec58-d53d5d9bc94e"
      },
      "execution_count": 56,
      "outputs": [
        {
          "output_type": "execute_result",
          "data": {
            "text/plain": [
              "13"
            ]
          },
          "metadata": {},
          "execution_count": 56
        }
      ]
    },
    {
      "cell_type": "markdown",
      "source": [
        "### 2.6 Librerías <a name=\"librerias\"></a>"
      ],
      "metadata": {
        "id": "7qRmGjGbZFzF"
      }
    },
    {
      "cell_type": "markdown",
      "source": [
        "<img src=\"https://drive.google.com/uc?export=view&id=1V8qB-9SiGg-KSZ0eLCgl_AuTvh4PPSZ_\" height=\"120\" width=\"600\" style=\"float: center;\">"
      ],
      "metadata": {
        "id": "-r3GW91EbChc"
      }
    },
    {
      "cell_type": "markdown",
      "source": [
        "Colección de funciones predefinidas y que se realizan con un fin determinado.\n",
        "\n",
        "El objetivo es simplificar el trabajo del desarrollador y no tenerlas que programar desde cero.\n",
        "\n",
        "Tienen mucha comunidad y mantenimiento.\n",
        "\n",
        "Algunas de las librerías más utilizadas:\n",
        "- Scikit-learn\n",
        "- NumPy\n",
        "- Pandas\n",
        "- TensorFlow\n",
        "- Keras\n",
        "- Matplotlib\n",
        "- Seaborn"
      ],
      "metadata": {
        "id": "3grBaQD0Nvvv"
      }
    },
    {
      "cell_type": "markdown",
      "source": [
        "## 3. Numpy <a name=\"numpy\"></a>"
      ],
      "metadata": {
        "id": "Ka-HzKeV5JvI"
      }
    },
    {
      "cell_type": "markdown",
      "source": [
        "<img src=\"https://drive.google.com/uc?export=view&id=1g3AUZk28Ku_gIejQbO8wzWHTWsSCgKhK\" height=\"100\" width=\"400\" style=\"float: center;\">"
      ],
      "metadata": {
        "id": "WtlJlWacdxbv"
      }
    },
    {
      "cell_type": "markdown",
      "source": [
        "Es una librería de código abierto que se utiliza para llevar a cabo tareas matemáticas con altísima eficiencia.\n",
        "\n",
        "Ventajas\n",
        "\n",
        "- **Array multidimensionales**: agrega el tipo de datos `ndarray`, que permite almacenar y manipular grandes conjuntos de datos de forma eficiente. Los arrays pueden tener cualquier número de dimensiones.\n",
        "- **Operaciones Vectorizadas**: permite realizar operaciones matemáticas en arrays completos sin la necesidad de bucles explícitos en el código, lo que lo hace muy rápido y eficiente.\n",
        "- **Funciones matemáticas**: proporciona una amplia gama de funciones matemáticas para trabajar con arrays.\n",
        "- **Eficiencia**: Es mucho más rápido que la misma funcionalidad implementada directamente sobre Python nativo."
      ],
      "metadata": {
        "id": "giTsHW3nd979"
      }
    },
    {
      "cell_type": "code",
      "source": [
        "import numpy as np"
      ],
      "metadata": {
        "id": "2KsHs6wKfNwD"
      },
      "execution_count": 57,
      "outputs": []
    },
    {
      "cell_type": "markdown",
      "source": [
        "### Arrays de Numpy\n",
        "\n",
        "Es una estructura de datos que permite almacenar una colección de elementos del mismo tipo.\n",
        "\n",
        "- Array unidimensional: Es similar a una lista en Python, pero con las ventajas de rendimiento y funcionalidad que ofrece NumPy.\n",
        "\n",
        "Podemos acceder a los elementos usando índices (indexes), modificarlos y realizar operaciones matemáticas en el array completo de forma eficiente."
      ],
      "metadata": {
        "id": "OoZAGxE-e8Wo"
      }
    },
    {
      "cell_type": "code",
      "source": [
        "array = np.array([1, 2, 3, 4, 5])\n",
        "array"
      ],
      "metadata": {
        "id": "EIhFTeFAfPms",
        "colab": {
          "base_uri": "https://localhost:8080/"
        },
        "outputId": "df9e18f1-9d41-4f28-acf7-d5800edb04ca"
      },
      "execution_count": 58,
      "outputs": [
        {
          "output_type": "execute_result",
          "data": {
            "text/plain": [
              "array([1, 2, 3, 4, 5])"
            ]
          },
          "metadata": {},
          "execution_count": 58
        }
      ]
    },
    {
      "cell_type": "code",
      "source": [
        "type(array)"
      ],
      "metadata": {
        "colab": {
          "base_uri": "https://localhost:8080/"
        },
        "id": "Xsdvmb-YRcAi",
        "outputId": "78e71eba-6598-4f07-8c83-ace2b04a2f44"
      },
      "execution_count": 59,
      "outputs": [
        {
          "output_type": "execute_result",
          "data": {
            "text/plain": [
              "numpy.ndarray"
            ]
          },
          "metadata": {},
          "execution_count": 59
        }
      ]
    },
    {
      "cell_type": "code",
      "source": [
        "# Acceder al tercer elemento\n",
        "print(array[2])\n",
        "\n",
        "# Cambiar el valor del segundo elemento\n",
        "array[1] = 7\n",
        "print(array)\n",
        "\n",
        "# Sumar 10 a todos los elementos\n",
        "array += 10\n",
        "print(array)\n",
        "\n",
        "# Calcular la suma de los elementos\n",
        "sum_all = np.sum(array)\n",
        "print(sum_all)"
      ],
      "metadata": {
        "id": "ghfeVckEfaKj",
        "colab": {
          "base_uri": "https://localhost:8080/"
        },
        "outputId": "45f0c1cb-1262-4ecd-c0ba-ebd0edc5453d"
      },
      "execution_count": 60,
      "outputs": [
        {
          "output_type": "stream",
          "name": "stdout",
          "text": [
            "3\n",
            "[1 7 3 4 5]\n",
            "[11 17 13 14 15]\n",
            "70\n"
          ]
        }
      ]
    },
    {
      "cell_type": "markdown",
      "source": [
        "- Array N-dimensional: estructura de datos que organiza elementos en múltiples dimensiones (ejes): matrices (array 2D, 2 ejes), tensores (array 3D, 3 ejes) y estructuras de mayor dimensión.\n",
        "\n",
        "Son accesibles mediante índices al igual que los 1D."
      ],
      "metadata": {
        "id": "uoHhoqbifiU-"
      }
    },
    {
      "cell_type": "code",
      "source": [
        "array_2d = np.array([[1, 2, 3], [4, 5, 6], [7, 8, 9]])\n",
        "array_2d"
      ],
      "metadata": {
        "id": "jXYJQQm2fssb",
        "colab": {
          "base_uri": "https://localhost:8080/"
        },
        "outputId": "d6e39f0e-5c9e-44c0-da74-64a966426946"
      },
      "execution_count": 61,
      "outputs": [
        {
          "output_type": "execute_result",
          "data": {
            "text/plain": [
              "array([[1, 2, 3],\n",
              "       [4, 5, 6],\n",
              "       [7, 8, 9]])"
            ]
          },
          "metadata": {},
          "execution_count": 61
        }
      ]
    },
    {
      "cell_type": "code",
      "source": [
        "array_3d = np.array([[[1, 2], [3, 4]], [[5, 6], [7, 8]]])\n",
        "array_3d"
      ],
      "metadata": {
        "id": "o7tV326EfuUH",
        "colab": {
          "base_uri": "https://localhost:8080/"
        },
        "outputId": "cae41cec-fd08-488d-ef3c-f35c27d25f10"
      },
      "execution_count": 62,
      "outputs": [
        {
          "output_type": "execute_result",
          "data": {
            "text/plain": [
              "array([[[1, 2],\n",
              "        [3, 4]],\n",
              "\n",
              "       [[5, 6],\n",
              "        [7, 8]]])"
            ]
          },
          "metadata": {},
          "execution_count": 62
        }
      ]
    },
    {
      "cell_type": "markdown",
      "source": [
        "### Funciones\n",
        "\n",
        "NumPy proporciona una gran cantidad de funciones predefinidas y que se pueden aplicar directamente sobre las estructuras de datos vistas anteriormente o las propias de Python (listas, matrices, etcétera)."
      ],
      "metadata": {
        "id": "GKMKhjC2f89t"
      }
    },
    {
      "cell_type": "code",
      "source": [
        "# Crear un array para el ejemplo\n",
        "arr = np.array([1, 2, 3, 4, 5])"
      ],
      "metadata": {
        "id": "UKo_QqPRgJRY"
      },
      "execution_count": 64,
      "outputs": []
    },
    {
      "cell_type": "code",
      "source": [
        "# Operaciones Aritméticas\n",
        "print(arr)\n",
        "print(\"Suma:\", np.add(arr, 5))\n",
        "print(\"Producto:\", np.multiply(arr, 3))"
      ],
      "metadata": {
        "id": "AOCaM27xgMWC",
        "colab": {
          "base_uri": "https://localhost:8080/"
        },
        "outputId": "bdc7f47f-2b89-41b3-c95b-f72307bba59b"
      },
      "execution_count": 65,
      "outputs": [
        {
          "output_type": "stream",
          "name": "stdout",
          "text": [
            "[1 2 3 4 5]\n",
            "Suma: [ 6  7  8  9 10]\n",
            "Producto: [ 3  6  9 12 15]\n"
          ]
        }
      ]
    },
    {
      "cell_type": "code",
      "source": [
        "# Logarítmicas y Exponenciales\n",
        "print(arr)\n",
        "print(\"Logaritmo natural:\", np.log(arr))\n",
        "print(\"Exponencial:\", np.exp(arr))"
      ],
      "metadata": {
        "id": "OY1dtjR_gCW7",
        "colab": {
          "base_uri": "https://localhost:8080/"
        },
        "outputId": "0355a2ab-a55d-4aa1-e390-aec7619d54c3"
      },
      "execution_count": 66,
      "outputs": [
        {
          "output_type": "stream",
          "name": "stdout",
          "text": [
            "[1 2 3 4 5]\n",
            "Logaritmo natural: [0.         0.69314718 1.09861229 1.38629436 1.60943791]\n",
            "Exponencial: [  2.71828183   7.3890561   20.08553692  54.59815003 148.4131591 ]\n"
          ]
        }
      ]
    },
    {
      "cell_type": "code",
      "source": [
        "# Funciones Estadísticas\n",
        "print(arr)\n",
        "print(\"Media:\", np.mean(arr))\n",
        "print(\"Mediana:\", np.median(arr))\n",
        "print(\"Desviación estándar:\", np.std(arr))\n",
        "print(\"Varianza:\", np.var(arr))\n",
        "print(\"Máximo valor:\", np.max(arr))\n",
        "print(\"Índice del máximo valor:\", np.argmax(arr))\n",
        "print(\"Mínimo valor:\", np.min(arr))\n",
        "print(\"Índice del mínimo valor:\", np.argmin(arr))\n",
        "print(\"Suma de todos los elementos:\", np.sum(arr))"
      ],
      "metadata": {
        "id": "2yhT3pQegUhl",
        "colab": {
          "base_uri": "https://localhost:8080/"
        },
        "outputId": "1ea33db8-d9e8-4a24-8db4-dc86499906c4"
      },
      "execution_count": 67,
      "outputs": [
        {
          "output_type": "stream",
          "name": "stdout",
          "text": [
            "[1 2 3 4 5]\n",
            "Media: 3.0\n",
            "Mediana: 3.0\n",
            "Desviación estándar: 1.4142135623730951\n",
            "Varianza: 2.0\n",
            "Máximo valor: 5\n",
            "Índice del máximo valor: 4\n",
            "Mínimo valor: 1\n",
            "Índice del mínimo valor: 0\n",
            "Suma de todos los elementos: 15\n"
          ]
        }
      ]
    },
    {
      "cell_type": "code",
      "source": [
        "# Funciones de Redondeo\n",
        "print(arr)\n",
        "arr_decimal = np.array([1.23, 2.47, 3.56, 4.89])\n",
        "print(\"Redondeo:\", np.around(arr_decimal))\n",
        "print(\"Entero menor (floor):\", np.floor(arr_decimal))\n",
        "print(\"Entero mayor (ceil):\", np.ceil(arr_decimal))"
      ],
      "metadata": {
        "id": "E0stpoHegYAF",
        "colab": {
          "base_uri": "https://localhost:8080/"
        },
        "outputId": "cdde6698-3366-48f6-a8cc-023be9615d34"
      },
      "execution_count": 68,
      "outputs": [
        {
          "output_type": "stream",
          "name": "stdout",
          "text": [
            "[1 2 3 4 5]\n",
            "Redondeo: [1. 2. 4. 5.]\n",
            "Entero menor (floor): [1. 2. 3. 4.]\n",
            "Entero mayor (ceil): [2. 3. 4. 5.]\n"
          ]
        }
      ]
    },
    {
      "cell_type": "markdown",
      "source": [
        "## 4. Actividad Numpy <a name=\"proyecto\"></a>"
      ],
      "metadata": {
        "id": "qGZ-jkm8-m2A"
      }
    },
    {
      "cell_type": "markdown",
      "source": [
        "**1. Crea un array de NumPy que contenga las temperaturas diarias (en grados Celsius) de una ciudad durante una semana (7 días).**"
      ],
      "metadata": {
        "id": "1kfq8VP6B-Cq"
      }
    },
    {
      "cell_type": "markdown",
      "source": [
        "**2. Accede y muestra la temperatura del tercer día de la semana y la temperatura del último día de la semana.**"
      ],
      "metadata": {
        "id": "ShGtpGM6CDPu"
      }
    },
    {
      "cell_type": "markdown",
      "source": [
        "**3. Calcula y muestra la temperatura promedio de la semana.**"
      ],
      "metadata": {
        "id": "X16qE93eCQjI"
      }
    },
    {
      "cell_type": "markdown",
      "source": [
        "**4. Encuentra y muestra la temperatura máxima y mínima registrada durante la semana.**"
      ],
      "metadata": {
        "id": "R7KvEM-ACWby"
      }
    },
    {
      "cell_type": "markdown",
      "source": [
        "**5. Calcula un nuevo array que contenga la diferencia de temperatura entre días consecutivos de la semana. Ver método diff.**"
      ],
      "metadata": {
        "id": "E8KbAh4ECcHm"
      }
    },
    {
      "cell_type": "markdown",
      "source": [
        "**6. Supongamos que todas las temperaturas registradas estaban subestimadas por un error en el sensor y que hay que ajustarlas sumando 2 grados a cada temperatura. Calcula el nuevo array con las temperaturas corregidas.**"
      ],
      "metadata": {
        "id": "zIucTXW-CqhN"
      }
    },
    {
      "cell_type": "markdown",
      "source": [
        "**7. Normaliza el array de temperaturas para que sus valores estén en el rango [0, 1]. La normalización se hace restando el mínimo valor y dividiendo por el rango (máximo - mínimo).**"
      ],
      "metadata": {
        "id": "kv1fAqYfCxsT"
      }
    },
    {
      "cell_type": "markdown",
      "source": [
        "**8. Escribe una función que reciba el array de temperaturas y un umbral (por ejemplo, 22°C) y devuelva un nuevo array con los días (índices) donde la temperatura fue superior al umbral.**"
      ],
      "metadata": {
        "id": "zot8lt_DC4Qk"
      }
    },
    {
      "cell_type": "markdown",
      "source": [
        "**9. Escribe una función que reemplace todas las temperaturas que están por debajo de un umbral (por ejemplo, 20°C) con el valor del umbral. La función debe devolver el nuevo array modificado.**"
      ],
      "metadata": {
        "id": "Y8c35TbzDC_Q"
      }
    },
    {
      "cell_type": "markdown",
      "source": [
        "**10. Escribe una función que reciba el array de temperaturas y un porcentaje, y devuelva un nuevo array con las temperaturas incrementadas en ese porcentaje.**"
      ],
      "metadata": {
        "id": "VlvtTLbbDQFb"
      }
    }
  ]
}